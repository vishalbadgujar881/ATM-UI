{
 "cells": [
  {
   "cell_type": "markdown",
   "id": "77888ce2",
   "metadata": {},
   "source": [
    "# PYTHON SIMPLE ATM UI"
   ]
  },
  {
   "cell_type": "code",
   "execution_count": 1,
   "id": "7b8a55ee",
   "metadata": {},
   "outputs": [],
   "source": [
    "def check_balance(balance):\n",
    "    print(f\"your balance amount is Rs.{balance}/-\")\n",
    "\n",
    "def deposit(balance,deposit_limit):\n",
    "    deposit_amount = abs(int(input('enter your deposit amount :')))\n",
    "    if deposit_amount > deposit_limit:\n",
    "        print('deposit amount should be within deposit limit of Rs. 1,00,000/-')\n",
    "    else:\n",
    "        balance += deposit_amount\n",
    "        print(f\"thank you for using ATM service your updated balnce is Rs.{balance}/-\")\n",
    "    return balance\n",
    "\n",
    "def withdrawal(balance):\n",
    "    wd_amount = abs(int(input('enter the amount you want to withdraw :')))\n",
    "    if wd_amount > balance:\n",
    "        print(\"check the amount entered\")\n",
    "    else:\n",
    "        balance -= wd_amount\n",
    "        print(f\"thank you for using ATM service your updated balnce is Rs.{balance}/-\")\n",
    "    return balance\n",
    "\n",
    "def exit():\n",
    "    print('thank you for using ATM service :-) \\nhave a nice day')\n",
    "\n",
    "def ATM(balance=100000, deposit_limit=100000):\n",
    "    try:\n",
    "        while True:\n",
    "            user_input = int(input('press 1. for balance enquiry. 2. for depositing money. 3. for withdrawing money. 4. to exit :'))\n",
    "            if user_input == 1:\n",
    "                check_balance(balance)\n",
    "            elif user_input == 2:\n",
    "                balance = deposit(balance,deposit_limit)\n",
    "            elif user_input == 3:\n",
    "                balance = withdrawal(balance)\n",
    "            elif user_input == 4:\n",
    "                exit()\n",
    "                break\n",
    "            else:\n",
    "                print(\"invalid input\")\n",
    "    except Exception as e:\n",
    "        print(e)"
   ]
  },
  {
   "cell_type": "code",
   "execution_count": null,
   "id": "30c601c3",
   "metadata": {},
   "outputs": [
    {
     "name": "stdout",
     "output_type": "stream",
     "text": [
      "press 1. for balance enquiry. 2. for depositing money. 3. for withdrawing money. 4. to exit :2\n",
      "enter your deposit amount :5000\n",
      "thank you for using ATM service your updated balnce is Rs.105000/-\n",
      "press 1. for balance enquiry. 2. for depositing money. 3. for withdrawing money. 4. to exit :3\n",
      "enter the amount you want to withdraw :5000\n",
      "thank you for using ATM service your updated balnce is Rs.100000/-\n"
     ]
    }
   ],
   "source": [
    "ATM()"
   ]
  },
  {
   "cell_type": "code",
   "execution_count": null,
   "id": "15534a13",
   "metadata": {},
   "outputs": [],
   "source": []
  }
 ],
 "metadata": {
  "kernelspec": {
   "display_name": "Python 3 (ipykernel)",
   "language": "python",
   "name": "python3"
  },
  "language_info": {
   "codemirror_mode": {
    "name": "ipython",
    "version": 3
   },
   "file_extension": ".py",
   "mimetype": "text/x-python",
   "name": "python",
   "nbconvert_exporter": "python",
   "pygments_lexer": "ipython3",
   "version": "3.11.7"
  }
 },
 "nbformat": 4,
 "nbformat_minor": 5
}
